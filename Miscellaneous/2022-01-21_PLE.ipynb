{
 "cells": [
  {
   "cell_type": "markdown",
   "source": [
    "# Progressive Layered Extraction(PLE) : A Novel Multi-Task Learning(MTL) Model for Personalized Recommendations\n",
    "- RecSys ’20, September 22–26, 2020, Virtual Event, Brazil\n",
    "- keywords : Multi-task Learning, Recommender System, Seesaw Phenomenon\n",
    "- [notion link](https://www.notion.so/dasomkang/Progressive-Layered-Extraction-PLE-A-Novel-Multi-Task-Learning-MTL-Model-for-Personalized-Recom-0a12fcaf35d6412da713f8e9419dffdb)"
   ],
   "metadata": {}
  },
  {
   "cell_type": "markdown",
   "source": [
    "# Table of contents\n",
    "1. [Summary](#Summary)\n",
    "2. [Related Work](#Related_Work)\n",
    "    1. [Multi-Task Learning in Recommender Systems](#_Multi-Task_Learning_in_Recommender_Systems)\n",
    "    2. [Challenges of MTL Recommeder System](#_Challenges_of_MTL_Recommeder_System)\n"
   ],
   "metadata": {}
  },
  {
   "cell_type": "markdown",
   "source": [
    "# 1. Summary \n",
    "- introduction of the paper\n",
    "1. Recommender systems (RS) need to incorporate various user feedbacks to model user interests and maximize user engagement and satisfaction.\n",
    "    1. user satisfaction and engagement have many major factors that can be learned directly, e.g. the likelihood of clicking, finishing, sharing, favoriting, and commenting etc.\n",
    "2. There has been an increasing trend to apply Multi-Task Learning (MTL) in RS to model the multiple aspects of user satisfaction or engagement simultaneously. \n",
    "    1. MTL learns multiple tasks simultaneously in one single model and is proven to improve learning efficiency through information sharing between tasks.\n",
    "    2. Meanwhile, tasks in real-world recommender systems are often loosely correlated or even conflicted, which may lead to performance deterioration known as **negative transfer** \n",
    "3. Through extensive experiments, find that existing MTL models often improve some tasks at the sacrifice of the performance of others, when task correlation is complex and sometimes sample dependent, i.e., multiple tasks could not be improved simultaneously compared to the corresponding single-task model, which is called seesaw phenomenon in this paper. Prior works put more efforts to address the negative transfer but neglect the seesaw phenomenon\n",
    "4. **MMOE** applies gating networks to combine bottom experts based on the input to handle task differences but neglects the differentiation and interaction between experts, which is proved to suffer from the **seesaw phenomenon** in our industrial practice. \n",
    "5. propose Progressive Layered Extraction (PLE) : a novel MTL model\n",
    "    1. PLE explicitly seperates shared and task-specific experts to alleviate harmful parameter intereference between common and task-specific knowledge\n",
    "    2. PLE introduces multi-lavel experts and gating networks, and applies progressive seperation routing to extract deeper knowldege from lower-layer experts and seperate task-specific paramters in higher leverl gradually\n",
    "6. Conduct extensive experiments on real-world dataset public dataset, respectively.\n",
    "7. Experiment results demonstrate that PLE outperforms state-of-the-art MTL models across all datasets, showing consistent improvements on not only task groups with challenging complex correlations, but also task groups with normal correlations in different scenarios. Besides, significant improvement of online metrics on a large-scale video recommender system in Tencent demonstrates the advantage of PLE in real-world recommendation applications.\n",
    "8. The main contributions of this paper are summarized as follows:"
   ],
   "metadata": {}
  },
  {
   "cell_type": "markdown",
   "source": [
    "# 2. Related Work\n",
    "## 2.1 Multi-Task Learning in Recommender Systems\n",
    "- To better exploit various user behaviors, multi-task learning has been widely applied to recommender systems and achived substantial improvement.\n",
    "    - multi-task  : ex) CVR(Conversion Rate), CTR(Click-Through Rate), like,  text recommendation, sharing represenations at the bottoms...\n",
    "- Applying MMOE to combine shared experts through **different gating network for each task**, the YouTube video recommender systerm can better capture task differences and optimize multiple objectives efficiently.\n",
    "- MMOE treats all experts equally without differentiation, PLE explicitly seperates task-common and task-specific experts and adopts a novel progressive seperation routing"
   ],
   "metadata": {}
  },
  {
   "cell_type": "markdown",
   "source": [
    "## 2.2 Challenges of MTL Recommeder System\n",
    "- **Negative transfer and Seesaw Phenomenon**\n",
    "    - Negative transfer\n",
    "        - common phenomenon in MTL especially for loosely correlated tasks.\n",
    "    - Seesaw Phenomenon\n"
   ],
   "metadata": {}
  },
  {
   "cell_type": "markdown",
   "source": [
    "## 2.3 MTL ranking system serving Tencent News\n",
    "\n",
    "- there are multiple objectives to model different user behaviors such as click, shar, and comment in the MTL model\n",
    "- in the offline training process, train the MTL ranking model based on user actions extracted from user logs.\n",
    "- After each online request, the ranking model outputs predictions for each task, then the weighted-multiplication based ranking module combines these predicted score to a final score through a combine function shown in Equation1, and recommends top-ranked videos to the user finally.\n",
    "    - notations of Weighted-Multiplication based Ranking\n",
    "        - where f(video_len) is a non-linear transform function such as sigmoid or log funcion in video duration\n",
    "        - $w_{VTR}, w_{VCR}, w_{SHR}, w_{CMR}$ are hyper-parameters optimized through online experimental search to maximize online metrics"
   ],
   "metadata": {}
  },
  {
   "cell_type": "markdown",
   "source": [
    "![Weighted-Multiplication based Ranking](https://github.com/DasomKang/Data-Science-Project/blob/main/img/screenshot1.png)\n"
   ],
   "metadata": {}
  },
  {
   "cell_type": "markdown",
   "source": [],
   "metadata": {}
  }
 ],
 "metadata": {
  "orig_nbformat": 4,
  "language_info": {
   "name": "python",
   "version": "3.8.5",
   "mimetype": "text/x-python",
   "codemirror_mode": {
    "name": "ipython",
    "version": 3
   },
   "pygments_lexer": "ipython3",
   "nbconvert_exporter": "python",
   "file_extension": ".py"
  },
  "kernelspec": {
   "name": "python3",
   "display_name": "Python 3.8.5 64-bit ('dh_jlab': pyenv)"
  },
  "interpreter": {
   "hash": "d06fdcaab77e7bca41e73d3ad7e3a4eef3b2b4c44672d8ae3f6b9e66da6f3777"
  }
 },
 "nbformat": 4,
 "nbformat_minor": 2
}