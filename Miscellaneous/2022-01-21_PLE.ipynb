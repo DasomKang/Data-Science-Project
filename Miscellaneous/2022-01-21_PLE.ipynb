{
 "cells": [
  {
   "cell_type": "code",
   "execution_count": 1,
   "source": [
    "msg = 'hello'\n",
    "print(msg)\n"
   ],
   "outputs": [
    {
     "output_type": "stream",
     "name": "stdout",
     "text": [
      "hello\n"
     ]
    }
   ],
   "metadata": {}
  },
  {
   "cell_type": "code",
   "execution_count": null,
   "source": [],
   "outputs": [],
   "metadata": {}
  }
 ],
 "metadata": {
  "orig_nbformat": 4,
  "language_info": {
   "name": "python",
   "version": "3.8.5",
   "mimetype": "text/x-python",
   "codemirror_mode": {
    "name": "ipython",
    "version": 3
   },
   "pygments_lexer": "ipython3",
   "nbconvert_exporter": "python",
   "file_extension": ".py"
  },
  "kernelspec": {
   "name": "python3",
   "display_name": "Python 3.8.5 64-bit ('dh_jlab': pyenv)"
  },
  "interpreter": {
   "hash": "d06fdcaab77e7bca41e73d3ad7e3a4eef3b2b4c44672d8ae3f6b9e66da6f3777"
  }
 },
 "nbformat": 4,
 "nbformat_minor": 2
}